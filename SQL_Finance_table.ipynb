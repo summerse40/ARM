{
  "nbformat": 4,
  "nbformat_minor": 0,
  "metadata": {
    "colab": {
      "provenance": [],
      "authorship_tag": "ABX9TyM4Ryg4rvXHg5u/Xxj6HhEl",
      "include_colab_link": true
    },
    "kernelspec": {
      "name": "python3",
      "display_name": "Python 3"
    },
    "language_info": {
      "name": "python"
    }
  },
  "cells": [
    {
      "cell_type": "markdown",
      "metadata": {
        "id": "view-in-github",
        "colab_type": "text"
      },
      "source": [
        "<a href=\"https://colab.research.google.com/github/summerse40/ARM/blob/main/SQL_Finance_table.ipynb\" target=\"_parent\"><img src=\"https://colab.research.google.com/assets/colab-badge.svg\" alt=\"Open In Colab\"/></a>"
      ]
    },
    {
      "cell_type": "code",
      "execution_count": 14,
      "metadata": {
        "id": "gb5Gh2N4we_L"
      },
      "outputs": [],
      "source": [
        "import sqlite3\n",
        "import pandas as pd\n",
        "\n",
        "# Create an in-memory SQLite database\n",
        "conn = sqlite3.connect(':memory:')\n"
      ]
    },
    {
      "cell_type": "code",
      "source": [
        "def create_table():\n",
        "    query = \"\"\"\n",
        "    CREATE TABLE IF NOT EXISTS finance (\n",
        "        id INTEGER PRIMARY KEY,\n",
        "        date TEXT,\n",
        "        description TEXT,\n",
        "        category TEXT,\n",
        "        amount FLOAT\n",
        "    );\n",
        "    \"\"\"\n",
        "    conn.execute(query)\n",
        "    conn.commit()\n",
        "\n",
        "create_table()\n",
        "\n"
      ],
      "metadata": {
        "id": "W62lNHi-xEYT"
      },
      "execution_count": 15,
      "outputs": []
    },
    {
      "cell_type": "code",
      "source": [
        "def insert_data(date, description, category, amount):\n",
        "    query = \"\"\"\n",
        "    INSERT INTO finance (date, description, category, amount)\n",
        "    VALUES (?, ?, ?, ?);\n",
        "    \"\"\"\n",
        "    conn.execute(query, (date, description, category, amount))\n",
        "    conn.commit()\n",
        "\n",
        "# Sample data insertion\n",
        "insert_data('2023-08-21', 'Groceries', 'Food', -50.25)\n",
        "insert_data('2023-08-20', 'Salary', 'Income', 1000.00)\n"
      ],
      "metadata": {
        "id": "ubpBw750xI6M"
      },
      "execution_count": 16,
      "outputs": []
    },
    {
      "cell_type": "code",
      "source": [
        "def fetch_data():\n",
        "    query = \"\"\"\n",
        "    SELECT * FROM finance;\n",
        "    \"\"\"\n",
        "    return pd.read_sql(query, conn)\n",
        "\n",
        "# Display the data\n",
        "print(fetch_data())\n"
      ],
      "metadata": {
        "colab": {
          "base_uri": "https://localhost:8080/"
        },
        "id": "dj3-lBIBxI7s",
        "outputId": "df7f0c17-b0a4-4e1c-c76f-13caeeef0e53"
      },
      "execution_count": 17,
      "outputs": [
        {
          "output_type": "stream",
          "name": "stdout",
          "text": [
            "   id        date description category   amount\n",
            "0   1  2023-08-21   Groceries     Food   -50.25\n",
            "1   2  2023-08-20      Salary   Income  1000.00\n"
          ]
        }
      ]
    },
    {
      "cell_type": "code",
      "source": [
        "def get_balance():\n",
        "    query = \"\"\"\n",
        "    SELECT SUM(amount) as Total_Balance FROM finance;\n",
        "    \"\"\"\n",
        "    return pd.read_sql(query, conn)\n",
        "\n",
        "print(get_balance())\n"
      ],
      "metadata": {
        "colab": {
          "base_uri": "https://localhost:8080/"
        },
        "id": "_tcBw2QIzKhH",
        "outputId": "2d64daaa-44cf-4eac-fa5d-308cb20988f8"
      },
      "execution_count": 18,
      "outputs": [
        {
          "output_type": "stream",
          "name": "stdout",
          "text": [
            "   Total_Balance\n",
            "0         949.75\n"
          ]
        }
      ]
    },
    {
      "cell_type": "code",
      "source": [
        "def get_expense_by_category(category):\n",
        "    query = \"\"\"\n",
        "    SELECT category, SUM(amount) as Total_Expense\n",
        "    FROM finance\n",
        "    WHERE category = ? AND amount < 0;\n",
        "    \"\"\"\n",
        "    return pd.read_sql(query, conn, params=(category,))\n",
        "\n",
        "print(get_expense_by_category('Food'))\n"
      ],
      "metadata": {
        "colab": {
          "base_uri": "https://localhost:8080/"
        },
        "id": "ashG8b2RzL_c",
        "outputId": "825d0f3e-be94-4e2d-ab31-8c9f7ff18120"
      },
      "execution_count": 20,
      "outputs": [
        {
          "output_type": "stream",
          "name": "stdout",
          "text": [
            "  category  Total_Expense\n",
            "0     Food         -50.25\n"
          ]
        }
      ]
    },
    {
      "cell_type": "code",
      "source": [
        "\n"
      ],
      "metadata": {
        "id": "PQcbpPx9zST4"
      },
      "execution_count": 20,
      "outputs": []
    },
    {
      "cell_type": "code",
      "source": [],
      "metadata": {
        "id": "torEJBf0zVf5"
      },
      "execution_count": null,
      "outputs": []
    }
  ]
}